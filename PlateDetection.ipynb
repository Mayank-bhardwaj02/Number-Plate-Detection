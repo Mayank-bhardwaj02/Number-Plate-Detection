{
 "cells": [
  {
   "cell_type": "code",
   "execution_count": 1,
   "id": "a1b42de0-4efe-4613-9026-f525f33869b2",
   "metadata": {},
   "outputs": [],
   "source": [
    "import cv2\n",
    "import numpy as np\n",
    "import matplotlib.pyplot as plt"
   ]
  },
  {
   "cell_type": "code",
   "execution_count": 2,
   "id": "0790b836-7e64-4eed-afd0-e932c12b050c",
   "metadata": {},
   "outputs": [],
   "source": [
    "harcascade = \"haarcascade_russian_plate_number.xml\""
   ]
  },
  {
   "cell_type": "code",
   "execution_count": 3,
   "id": "d54061a0-90df-42ed-8476-6986bea0f56c",
   "metadata": {},
   "outputs": [],
   "source": [
    "min_area = 500"
   ]
  },
  {
   "cell_type": "code",
   "execution_count": 4,
   "id": "8c9b77bb-1701-4d14-bcea-7535e0758c09",
   "metadata": {},
   "outputs": [
    {
     "name": "stderr",
     "output_type": "stream",
     "text": [
      "[ WARN:0@0.220] global /private/var/folders/k1/30mswbxs7r1g6zwn8y4fyt500000gp/T/abs_11nitadzeg/croot/opencv-suite_1691620374638/work/modules/videoio/src/cap_gstreamer.cpp (862) isPipelinePlaying OpenCV | GStreamer warning: GStreamer: pipeline have not been created\n"
     ]
    }
   ],
   "source": [
    "cap = cv2.VideoCapture(0)\n",
    "\n",
    "cap.set(3, 640)\n",
    "cap.set(4, 480)\n",
    "\n",
    "while True:\n",
    "    ret, frame = cap.read()\n",
    "    plate_cascade = cv2.CascadeClassifier(harcascade)\n",
    "    gray_img = cv2.cvtColor(frame, cv2.COLOR_BGR2GRAY)\n",
    "\n",
    "    plate = plate_cascade.detectMultiScale(gray_img, 1.2, 5)\n",
    "\n",
    "    for (x,y,w,h) in plate:\n",
    "        area = w*h\n",
    "        if area > min_area:\n",
    "            cv2.rectangle(frame , (x,y), (x+w,y+h), (0,255,0), 2)\n",
    "            cv2.putText(frame, \"Number Plate\", (x,y-5), cv2.FONT_HERSHEY_COMPLEX_SMALL, 1,(255,0,0),2)\n",
    "\n",
    "    cv2.imshow(\"Result\", frame)\n",
    "    if cv2.waitKey(1) & 0xFF == ord('q'):\n",
    "        break\n",
    "\n",
    "cap.release()\n",
    "cv2.destroyAllWindows()"
   ]
  },
  {
   "cell_type": "code",
   "execution_count": null,
   "id": "51a9fa99-9431-482f-a588-6e5d23a1b0ca",
   "metadata": {},
   "outputs": [],
   "source": []
  }
 ],
 "metadata": {
  "kernelspec": {
   "display_name": "Python 3 (ipykernel)",
   "language": "python",
   "name": "python3"
  },
  "language_info": {
   "codemirror_mode": {
    "name": "ipython",
    "version": 3
   },
   "file_extension": ".py",
   "mimetype": "text/x-python",
   "name": "python",
   "nbconvert_exporter": "python",
   "pygments_lexer": "ipython3",
   "version": "3.11.4"
  }
 },
 "nbformat": 4,
 "nbformat_minor": 5
}
